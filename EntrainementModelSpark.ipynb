{
  "nbformat": 4,
  "nbformat_minor": 0,
  "metadata": {
    "colab": {
      "provenance": []
    },
    "kernelspec": {
      "name": "python3",
      "display_name": "Python 3"
    },
    "language_info": {
      "name": "python"
    }
  },
  "cells": [
    {
      "cell_type": "code",
      "execution_count": null,
      "metadata": {
        "colab": {
          "base_uri": "https://localhost:8080/"
        },
        "id": "pB897Gk6J7pQ",
        "outputId": "66983e7e-8dd8-4c89-bd70-385c83957670"
      },
      "outputs": [
        {
          "output_type": "stream",
          "name": "stdout",
          "text": [
            "Requirement already satisfied: pyspark in /usr/local/lib/python3.10/dist-packages (3.5.0)\n",
            "Requirement already satisfied: py4j==0.10.9.7 in /usr/local/lib/python3.10/dist-packages (from pyspark) (0.10.9.7)\n"
          ]
        }
      ],
      "source": [
        "!pip install pyspark"
      ]
    },
    {
      "cell_type": "code",
      "source": [
        "import pyspark\n",
        "from pyspark.ml.feature import StringIndexer, OneHotEncoder, VectorAssembler,StandardScaler,PCA\n",
        "from pyspark.sql import SparkSession\n",
        "from pyspark.sql.functions import col,when,mean,avg,max\n",
        "from pyspark.ml.evaluation import RegressionEvaluator\n",
        "from pyspark.sql import DataFrame\n",
        "from pyspark.ml.feature import Imputer\n",
        "import pandas as pd\n",
        "from pyspark.sql.functions import col"
      ],
      "metadata": {
        "id": "a6T1RASTKR2V"
      },
      "execution_count": null,
      "outputs": []
    },
    {
      "cell_type": "code",
      "source": [
        "spark = SparkSession.builder.appName('customer churn').getOrCreate()"
      ],
      "metadata": {
        "id": "noCaJQdYKWww"
      },
      "execution_count": null,
      "outputs": []
    },
    {
      "cell_type": "code",
      "source": [
        "class SmartEncoder():\n",
        "\n",
        "    use_onehot = False\n",
        "    use_std_scaler = False\n",
        "    use_pca = False\n",
        "\n",
        "\n",
        "    def __init__(self, df1,pred,use_oversampler,use_onehot, use_std_scaler,use_pca):\n",
        "        print(\"Constructor of Class samrtencoder \")\n",
        "\n",
        "        self.df1 = df1\n",
        "        self.pred = pred\n",
        "        self.use_oversampler = use_oversampler\n",
        "        self.use_onehot = use_onehot\n",
        "        self.use_std_scaler = use_std_scaler\n",
        "        self.pca = use_pca\n",
        "\n",
        "    @staticmethod\n",
        "    def checkNulls(df):\n",
        "        null_cols = {col:df.filter(df[col].isNull()).count() for col in df.columns}\n",
        "        return null_cols\n",
        "    @staticmethod\n",
        "    def checkDuplicates(df):\n",
        "        if df.count() > df.dropDuplicates().count():\n",
        "            raise ValueError('Data has duplicates')\n",
        "\n",
        "\n",
        "    def handlingMissingVal(self):\n",
        "\n",
        "        #drop cols when the whole row is null\n",
        "        df= self.df1.na.drop(how = \"all\")\n",
        "        #drop duplicates\n",
        "        df = df.dropDuplicates()\n",
        "        #Treating missing values\n",
        "        cols_to_drop = [x for x in df.columns if df.filter(df[x].isNull()).count()>0]\n",
        "        if len(cols_to_drop) != 0:\n",
        "            dff=df.select(cols_to_drop)\n",
        "            continuousCols =[item[0] for item in dff.dtypes if item[1] != 'string']\n",
        "            imputer = Imputer(inputCols=continuousCols, outputCols=continuousCols).setStrategy(\"mean\")\n",
        "            model = imputer.fit(df)\n",
        "            imputed_data = model.transform(df)\n",
        "\n",
        "        else:\n",
        "            imputed_data = df\n",
        "\n",
        "        return imputed_data\n",
        "\n",
        "    def indexString(self):\n",
        "\n",
        "        imputed = self.handlingMissingVal()\n",
        "        if self.use_oversampler == True:\n",
        "                imputed = self.oversmaple(imputed)\n",
        "\n",
        "        #index the string to numeric\n",
        "        self.stringCols = [item[0] for item in imputed.dtypes if item[1] == 'string']\n",
        "        if len(self.stringCols) != 0:\n",
        "            outputs=[y+\"_encoded\" for y in self.stringCols]\n",
        "            stringIndexer = StringIndexer(inputCols=self.stringCols, outputCols=outputs)\n",
        "            model = stringIndexer.fit(imputed)\n",
        "            result = model.transform(imputed)\n",
        "\n",
        "            encoded = result.drop(*self.stringCols)\n",
        "\n",
        "            if self.use_onehot == True:\n",
        "                #converting categorical attributes into a binary vector\n",
        "                encoder = OneHotEncoder(dropLast=False, inputCols=outputs, outputCols=[x + \"_vec\" for x in self.stringCols])\n",
        "                encoded2 = encoder.fit(encoded).transform(encoded)\n",
        "\n",
        "                encoded = encoded2.drop(*outputs)\n",
        "            encoded = encoded.withColumnRenamed(self.pred + '_encoded',self.pred)\n",
        "            encoded = encoded.withColumnRenamed(self.pred + '_vec',self.pred)\n",
        "        else:\n",
        "            encoded = imputed\n",
        "\n",
        "        return encoded\n",
        "\n",
        "    def oversmaple(self,df):\n",
        "        # example of random oversampling to balance the class distribution\n",
        "        from collections import Counter\n",
        "        from imblearn.over_sampling import RandomOverSampler\n",
        "        dfp = df.toPandas()\n",
        "        # define oversampling strategy\n",
        "        oversample = RandomOverSampler()\n",
        "        # fit and apply the transform\n",
        "        data, y = oversample.fit_resample(dfp.loc[:,dfp.columns!=self.pred], dfp[self.pred])\n",
        "        data[self.pred] = y\n",
        "        df_sample = spark.createDataFrame(data)\n",
        "        # summarize class distribution\n",
        "        print(Counter(y))\n",
        "\n",
        "        return df_sample\n",
        "\n",
        "#**************************************************************#\n",
        "    def dataAssembler(self,drops):\n",
        "        # VectorAssembler - tranform features into a feature vector column\n",
        "        encoded = self.indexString()\n",
        "        encoded = encoded.drop(*drops)\n",
        "        assembler = VectorAssembler(inputCols = encoded.drop(self.pred).columns, outputCol = 'features')\n",
        "        df_Assembled = assembler.transform(encoded)\n",
        "\n",
        "        if self.use_std_scaler == True:\n",
        "            # standardize the dataframe to ensure that all the variables are around the same scale\n",
        "            scale=StandardScaler(inputCol='features',outputCol='standardized')\n",
        "            df_scale=scale.fit(df_Assembled)\n",
        "            df_Assembled=df_scale.transform(df_Assembled)\n",
        "\n",
        "        if self.pca == True:\n",
        "            pca = PCA(k=3, inputCol=df_Assembled.columns[-1])\n",
        "            pca.setOutputCol(\"pca_features\")\n",
        "\n",
        "            model = pca.fit(df_Assembled)\n",
        "            df_Assembled = model.transform(df_Assembled)\n",
        "\n",
        "\n",
        "        return df_Assembled\n"
      ],
      "metadata": {
        "id": "VhpDL9umKdnN"
      },
      "execution_count": null,
      "outputs": []
    },
    {
      "cell_type": "code",
      "source": [
        "df = spark.read.csv('drive/MyDrive/customer.csv', header = True, inferSchema = True)"
      ],
      "metadata": {
        "id": "yblDSFnuKegn"
      },
      "execution_count": null,
      "outputs": []
    },
    {
      "cell_type": "code",
      "source": [
        "df.count()"
      ],
      "metadata": {
        "colab": {
          "base_uri": "https://localhost:8080/"
        },
        "id": "O5CDz7lsKt2l",
        "outputId": "2b3fb991-79f6-403e-8d9a-7ad8694a7fd8"
      },
      "execution_count": null,
      "outputs": [
        {
          "output_type": "execute_result",
          "data": {
            "text/plain": [
              "900"
            ]
          },
          "metadata": {},
          "execution_count": 14
        }
      ]
    },
    {
      "cell_type": "code",
      "source": [
        "df.show(5)"
      ],
      "metadata": {
        "colab": {
          "base_uri": "https://localhost:8080/"
        },
        "id": "ZAznjJsrKxa4",
        "outputId": "5f4825ed-4914-4633-d4e6-4930d9f46bc2"
      },
      "execution_count": null,
      "outputs": [
        {
          "output_type": "stream",
          "name": "stdout",
          "text": [
            "+----------------+----+--------------+---------------+-----+---------+-------------------+--------------------+--------------------+-----+\n",
            "|           Names| Age|Total_Purchase|Account_Manager|Years|Num_Sites|       Onboard_date|            Location|             Company|Churn|\n",
            "+----------------+----+--------------+---------------+-----+---------+-------------------+--------------------+--------------------+-----+\n",
            "|Cameron Williams|42.0|       11066.8|              0| 7.22|      8.0|2013-08-30 07:00:40|10265 Elizabeth M...|          Harvey LLC|    1|\n",
            "|   Kevin Mueller|41.0|      11916.22|              0|  6.5|     11.0|2013-08-13 00:38:46|6157 Frank Garden...|          Wilson PLC|    1|\n",
            "|     Eric Lozano|38.0|      12884.75|              0| 6.67|     12.0|2016-06-29 06:20:07|1331 Keith Court ...|Miller, Johnson a...|    1|\n",
            "|   Phillip White|42.0|       8010.76|              0| 6.71|     10.0|2014-04-22 12:43:12|13120 Daniel Moun...|           Smith Inc|    1|\n",
            "|  Cynthia Norton|37.0|       9191.58|              0| 5.56|      9.0|2016-01-19 15:31:15|765 Tricia Row Ka...|          Love-Jones|    1|\n",
            "+----------------+----+--------------+---------------+-----+---------+-------------------+--------------------+--------------------+-----+\n",
            "only showing top 5 rows\n",
            "\n"
          ]
        }
      ]
    },
    {
      "cell_type": "code",
      "source": [
        "df.printSchema()"
      ],
      "metadata": {
        "colab": {
          "base_uri": "https://localhost:8080/"
        },
        "id": "2H_0NGbQLSHn",
        "outputId": "33cdaf7c-6395-4632-9fe8-28461d476216"
      },
      "execution_count": null,
      "outputs": [
        {
          "output_type": "stream",
          "name": "stdout",
          "text": [
            "root\n",
            " |-- Names: string (nullable = true)\n",
            " |-- Age: double (nullable = true)\n",
            " |-- Total_Purchase: double (nullable = true)\n",
            " |-- Account_Manager: integer (nullable = true)\n",
            " |-- Years: double (nullable = true)\n",
            " |-- Num_Sites: double (nullable = true)\n",
            " |-- Onboard_date: timestamp (nullable = true)\n",
            " |-- Location: string (nullable = true)\n",
            " |-- Company: string (nullable = true)\n",
            " |-- Churn: integer (nullable = true)\n",
            "\n"
          ]
        }
      ]
    },
    {
      "cell_type": "code",
      "source": [
        "df.describe().show()"
      ],
      "metadata": {
        "colab": {
          "base_uri": "https://localhost:8080/"
        },
        "id": "xUwwloxuLVIK",
        "outputId": "e4859421-89ea-440b-b04f-7dc80d906025"
      },
      "execution_count": null,
      "outputs": [
        {
          "output_type": "stream",
          "name": "stdout",
          "text": [
            "+-------+-------------+-----------------+-----------------+------------------+-----------------+------------------+--------------------+--------------------+-------------------+\n",
            "|summary|        Names|              Age|   Total_Purchase|   Account_Manager|            Years|         Num_Sites|            Location|             Company|              Churn|\n",
            "+-------+-------------+-----------------+-----------------+------------------+-----------------+------------------+--------------------+--------------------+-------------------+\n",
            "|  count|          900|              900|              900|               900|              900|               900|                 900|                 900|                900|\n",
            "|   mean|         NULL|41.81666666666667|10062.82403333334|0.4811111111111111| 5.27315555555555| 8.587777777777777|                NULL|                NULL|0.16666666666666666|\n",
            "| stddev|         NULL|6.127560416916251|2408.644531858096|0.4999208935073339|1.274449013194616|1.7648355920350969|                NULL|                NULL| 0.3728852122772358|\n",
            "|    min|   Aaron King|             22.0|            100.0|                 0|              1.0|               3.0|00103 Jeffrey Cre...|     Abbott-Thompson|                  0|\n",
            "|    max|Zachary Walsh|             65.0|         18026.01|                 1|             9.15|              14.0|Unit 9800 Box 287...|Zuniga, Clark and...|                  1|\n",
            "+-------+-------------+-----------------+-----------------+------------------+-----------------+------------------+--------------------+--------------------+-------------------+\n",
            "\n"
          ]
        }
      ]
    },
    {
      "cell_type": "code",
      "source": [
        "SmartEncoder.checkNulls(df)"
      ],
      "metadata": {
        "colab": {
          "base_uri": "https://localhost:8080/"
        },
        "id": "Lhg_eSWNLaEP",
        "outputId": "b8e102f0-ebc4-4486-e239-09949f8d0826"
      },
      "execution_count": null,
      "outputs": [
        {
          "output_type": "execute_result",
          "data": {
            "text/plain": [
              "{'Names': 0,\n",
              " 'Age': 0,\n",
              " 'Total_Purchase': 0,\n",
              " 'Account_Manager': 0,\n",
              " 'Years': 0,\n",
              " 'Num_Sites': 0,\n",
              " 'Onboard_date': 0,\n",
              " 'Location': 0,\n",
              " 'Company': 0,\n",
              " 'Churn': 0}"
            ]
          },
          "metadata": {},
          "execution_count": 18
        }
      ]
    },
    {
      "cell_type": "code",
      "source": [
        "df.select('Onboard_date').distinct().count()"
      ],
      "metadata": {
        "colab": {
          "base_uri": "https://localhost:8080/"
        },
        "id": "yRqsoY6GLaQT",
        "outputId": "e9bacf01-ce4e-432c-d31d-2281fa74953c"
      },
      "execution_count": null,
      "outputs": [
        {
          "output_type": "execute_result",
          "data": {
            "text/plain": [
              "900"
            ]
          },
          "metadata": {},
          "execution_count": 19
        }
      ]
    },
    {
      "cell_type": "code",
      "source": [
        "df = df.drop('Onboard_date')"
      ],
      "metadata": {
        "id": "jVAp88NLLaSf"
      },
      "execution_count": null,
      "outputs": []
    },
    {
      "cell_type": "code",
      "source": [
        "import matplotlib.pyplot as plt\n",
        "fig, ax = plt.subplots(figsize=(15,7))\n",
        "df.toPandas().boxplot('Churn', 'Age', rot=60,ax=ax)\n",
        "# Show the plot\n",
        "plt.show()"
      ],
      "metadata": {
        "colab": {
          "base_uri": "https://localhost:8080/",
          "height": 607
        },
        "id": "UE32Ka9WLaUz",
        "outputId": "6f902b81-2180-4d5a-891c-297886a06013"
      },
      "execution_count": null,
      "outputs": [
        {
          "output_type": "display_data",
          "data": {
            "text/plain": [
              "<Figure size 1500x700 with 1 Axes>"
            ],
            "image/png": "[encoded data removed]"
          },
          "metadata": {}
        }
      ]
    },
    {
      "cell_type": "code",
      "source": [
        "# Class (Target) Distribution\n",
        "class_dis=df.groupBy(\"Churn\").count().toPandas()\n",
        "class_occur = class_dis['count']\n",
        "#class_names = ['churn','Not churn']\n",
        "class_names = class_dis['Churn']\n",
        "fig, ax = plt.subplots()\n",
        "ax.pie(class_occur, labels=class_names, autopct='%1.2f%%',\n",
        "        shadow=True, startangle=0, counterclock=False)\n",
        "ax.axis('equal')  # Equal aspect ratio ensures that pie is drawn as a circle.\n",
        "ax.set_title('Class distribution')\n",
        "plt.show()"
      ],
      "metadata": {
        "colab": {
          "base_uri": "https://localhost:8080/",
          "height": 428
        },
        "id": "ONqvmPyYLaW4",
        "outputId": "09e4d269-ac33-4369-97de-fe93b1f6e956"
      },
      "execution_count": null,
      "outputs": [
        {
          "output_type": "display_data",
          "data": {
            "text/plain": [
              "<Figure size 640x480 with 1 Axes>"
            ],
            "image/png": "[encoded data removed]"
          },
          "metadata": {}
        }
      ]
    },
    {
      "cell_type": "code",
      "source": [
        "obj = SmartEncoder(df,'Churn',True,True,True,False)"
      ],
      "metadata": {
        "colab": {
          "base_uri": "https://localhost:8080/"
        },
        "id": "7xP-AGOwLaZU",
        "outputId": "cea6e303-696c-4f22-87ea-f60eee7b3be0"
      },
      "execution_count": null,
      "outputs": [
        {
          "output_type": "stream",
          "name": "stdout",
          "text": [
            "Constructor of Class samrtencoder \n"
          ]
        }
      ]
    },
    {
      "cell_type": "code",
      "source": [
        "df.columns"
      ],
      "metadata": {
        "colab": {
          "base_uri": "https://localhost:8080/"
        },
        "id": "rgHslvJeXEBb",
        "outputId": "a21728a9-272a-48c1-99b2-c76bd0501fae"
      },
      "execution_count": null,
      "outputs": [
        {
          "output_type": "execute_result",
          "data": {
            "text/plain": [
              "['Names',\n",
              " 'Age',\n",
              " 'Total_Purchase',\n",
              " 'Account_Manager',\n",
              " 'Years',\n",
              " 'Num_Sites',\n",
              " 'Location',\n",
              " 'Company',\n",
              " 'Churn']"
            ]
          },
          "metadata": {},
          "execution_count": 25
        }
      ]
    },
    {
      "cell_type": "code",
      "source": [
        "dfr = obj.indexString()\n",
        "dfr.count()"
      ],
      "metadata": {
        "colab": {
          "base_uri": "https://localhost:8080/"
        },
        "id": "GKBuMzpjLabW",
        "outputId": "cbd42172-94c3-4c8e-fc06-e2b3ac8bfc75"
      },
      "execution_count": null,
      "outputs": [
        {
          "output_type": "stream",
          "name": "stdout",
          "text": [
            "Counter({0: 750, 1: 750})\n"
          ]
        },
        {
          "output_type": "execute_result",
          "data": {
            "text/plain": [
              "1500"
            ]
          },
          "metadata": {},
          "execution_count": 26
        }
      ]
    },
    {
      "cell_type": "code",
      "source": [
        "dfr.columns"
      ],
      "metadata": {
        "colab": {
          "base_uri": "https://localhost:8080/"
        },
        "id": "XUC98cbbLade",
        "outputId": "7ec00619-38d8-45a7-9222-598edae1be7f"
      },
      "execution_count": null,
      "outputs": [
        {
          "output_type": "execute_result",
          "data": {
            "text/plain": [
              "['Age',\n",
              " 'Total_Purchase',\n",
              " 'Account_Manager',\n",
              " 'Years',\n",
              " 'Num_Sites',\n",
              " 'Churn',\n",
              " 'Names_vec',\n",
              " 'Location_vec',\n",
              " 'Company_vec']"
            ]
          },
          "metadata": {},
          "execution_count": 30
        }
      ]
    },
    {
      "cell_type": "code",
      "source": [
        "dfr.printSchema()"
      ],
      "metadata": {
        "colab": {
          "base_uri": "https://localhost:8080/"
        },
        "id": "3E2QzEA2yTHy",
        "outputId": "5350c2c7-d20f-453a-d701-c29b0b854dcc"
      },
      "execution_count": null,
      "outputs": [
        {
          "output_type": "stream",
          "name": "stdout",
          "text": [
            "root\n",
            " |-- Age: double (nullable = true)\n",
            " |-- Total_Purchase: double (nullable = true)\n",
            " |-- Account_Manager: long (nullable = true)\n",
            " |-- Years: double (nullable = true)\n",
            " |-- Num_Sites: double (nullable = true)\n",
            " |-- Churn: long (nullable = true)\n",
            " |-- Names_vec: vector (nullable = true)\n",
            " |-- Location_vec: vector (nullable = true)\n",
            " |-- Company_vec: vector (nullable = true)\n",
            "\n"
          ]
        }
      ]
    },
    {
      "cell_type": "code",
      "source": [
        "dfr.groupBy('Churn').count().show()"
      ],
      "metadata": {
        "colab": {
          "base_uri": "https://localhost:8080/"
        },
        "id": "HK0Qh0tOMEJL",
        "outputId": "44183f78-9b44-4150-d7b3-1acd185c3fac"
      },
      "execution_count": null,
      "outputs": [
        {
          "output_type": "stream",
          "name": "stdout",
          "text": [
            "+-----+-----+\n",
            "|Churn|count|\n",
            "+-----+-----+\n",
            "|    0|  750|\n",
            "|    1|  750|\n",
            "+-----+-----+\n",
            "\n"
          ]
        }
      ]
    },
    {
      "cell_type": "code",
      "source": [
        "dfr.show(1)"
      ],
      "metadata": {
        "colab": {
          "base_uri": "https://localhost:8080/"
        },
        "id": "M_HIQwOSZJKn",
        "outputId": "39de899d-1515-4165-b457-9adae4e17de8"
      },
      "execution_count": null,
      "outputs": [
        {
          "output_type": "stream",
          "name": "stdout",
          "text": [
            "+----+--------------+---------------+-----+---------+-----+-----------------+-----------------+-----------------+\n",
            "| Age|Total_Purchase|Account_Manager|Years|Num_Sites|Churn|        Names_vec|     Location_vec|      Company_vec|\n",
            "+----+--------------+---------------+-----+---------+-----+-----------------+-----------------+-----------------+\n",
            "|37.0|      11430.75|              0| 5.99|     10.0|    0|(899,[558],[1.0])|(900,[626],[1.0])|(873,[393],[1.0])|\n",
            "+----+--------------+---------------+-----+---------+-----+-----------------+-----------------+-----------------+\n",
            "only showing top 1 row\n",
            "\n"
          ]
        }
      ]
    },
    {
      "cell_type": "code",
      "source": [
        "import matplotlib.pyplot as plt\n",
        "import seaborn as sns\n",
        "hm=dfr.toPandas()\n",
        "plt.figure(figsize = (20, 10))\n",
        "sns.heatmap(hm.corr(), annot = True)"
      ],
      "metadata": {
        "colab": {
          "base_uri": "https://localhost:8080/",
          "height": 726
        },
        "id": "BjDliqfEMELa",
        "outputId": "07b20ad5-78bb-4ff7-a0fd-d178b78bf635"
      },
      "execution_count": null,
      "outputs": [
        {
          "output_type": "stream",
          "name": "stderr",
          "text": [
            "<ipython-input-36-497cadce29a3>:5: FutureWarning: The default value of numeric_only in DataFrame.corr is deprecated. In a future version, it will default to False. Select only valid columns or specify the value of numeric_only to silence this warning.\n",
            "  sns.heatmap(hm.corr(), annot = True)\n"
          ]
        },
        {
          "output_type": "execute_result",
          "data": {
            "text/plain": [
              "<Axes: >"
            ]
          },
          "metadata": {},
          "execution_count": 36
        },
        {
          "output_type": "display_data",
          "data": {
            "text/plain": [
              "<Figure size 2000x1000 with 2 Axes>"
            ],
            "image/png": "[encoded data removed]"
          },
          "metadata": {}
        }
      ]
    },
    {
      "cell_type": "code",
      "source": [
        "df_fin = obj.dataAssembler('')"
      ],
      "metadata": {
        "colab": {
          "base_uri": "https://localhost:8080/"
        },
        "id": "6SLQOiYrMi9y",
        "outputId": "905b8869-6953-43fa-a935-a57812bfc8dd"
      },
      "execution_count": null,
      "outputs": [
        {
          "output_type": "stream",
          "name": "stdout",
          "text": [
            "Counter({0: 750, 1: 750})\n"
          ]
        }
      ]
    },
    {
      "cell_type": "code",
      "source": [
        "df_fin.columns"
      ],
      "metadata": {
        "colab": {
          "base_uri": "https://localhost:8080/"
        },
        "id": "t2MP6qCaMjAS",
        "outputId": "9ddf6d96-7cbb-427b-993e-8fd09b56a62c"
      },
      "execution_count": null,
      "outputs": [
        {
          "output_type": "execute_result",
          "data": {
            "text/plain": [
              "['Age',\n",
              " 'Total_Purchase',\n",
              " 'Account_Manager',\n",
              " 'Years',\n",
              " 'Num_Sites',\n",
              " 'Churn',\n",
              " 'Names_vec',\n",
              " 'Location_vec',\n",
              " 'Company_vec',\n",
              " 'features',\n",
              " 'standardized']"
            ]
          },
          "metadata": {},
          "execution_count": 39
        }
      ]
    },
    {
      "cell_type": "code",
      "source": [
        "from pyspark.ml.classification import LogisticRegression,RandomForestClassifier,GBTClassifier,LinearSVC\n",
        "from pyspark.ml.evaluation import MulticlassClassificationEvaluator,BinaryClassificationEvaluator\n",
        "class ClassificationEval():\n",
        "\n",
        "    def __init__(self,pred,final_df):\n",
        "        print(\"Constructor of Class for classification evaluation\")\n",
        "        self.final_df = final_df\n",
        "        self.pred = pred\n",
        "        self.accuresult ={}\n",
        "        self.rocresult={}\n",
        "\n",
        "\n",
        "    def run_on_model(self,model,featureCol):\n",
        "        trainDF, testDF = self.final_df.randomSplit([0.7, 0.3], seed=42)\n",
        "        if model == 'lr':\n",
        "            lr = LogisticRegression(labelCol=self.pred, featuresCol=featureCol,maxIter=40)\n",
        "            modellr =lr.fit(trainDF)\n",
        "            self.predlr = modellr.transform(testDF)\n",
        "            return self.predlr\n",
        "        elif model == 'rf':\n",
        "            rf = RandomForestClassifier(labelCol=self.pred, featuresCol=featureCol, numTrees=100, maxDepth=3)\n",
        "            modelRf = rf.fit(trainDF)\n",
        "            self.predrf = modelRf.transform(testDF)\n",
        "            return self.predrf\n",
        "        elif model == 'gb':\n",
        "            gb = GBTClassifier(labelCol=self.pred,featuresCol=featureCol, maxIter=75, maxDepth=3)\n",
        "            modelgb = gb.fit(trainDF)\n",
        "            self.predgb = modelgb.transform(testDF)\n",
        "            return self.predgb\n",
        "        elif model == 'lsvc':\n",
        "            lsvc = LinearSVC(labelCol=self.pred,featuresCol=featureCol, maxIter=10, regParam=0.1)\n",
        "            lsvcModel = lsvc.fit(trainDF)\n",
        "            self.predsvc = lsvcModel.transform(testDF)\n",
        "            return self.predsvc\n",
        "        else:\n",
        "            raise ValueError('invalid model')\n",
        "\n",
        "\n",
        "    def genMetrics(self,model, featureCol):\n",
        "\n",
        "        pred_test = self.run_on_model(model,featureCol)\n",
        "        binEval = BinaryClassificationEvaluator(labelCol=self.pred)\n",
        "        evaluator = MulticlassClassificationEvaluator(labelCol=self.pred, predictionCol=\"prediction\")\n",
        "        self.accuresult[model] = evaluator.evaluate(pred_test,{evaluator.metricName: \"accuracy\"})\n",
        "        self.rocresult[model] = binEval.evaluate(pred_test, {binEval.metricName: \"areaUnderROC\"})\n",
        "\n",
        "\n",
        "    def run_all_model(self,featureCol):\n",
        "        models = ['lr','rf','gb','lsvc']\n",
        "        for model in models:\n",
        "            self.genMetrics(model, featureCol)\n",
        "        print(\"Accuracy =\",self.accuresult)\n",
        "        print(\"roc =\",self.rocresult)\n",
        "        return self.accuresult, self.rocresult\n",
        "\n",
        "\n",
        "\n",
        "    def compareModel(self):\n",
        "        best_v =0\n",
        "        best_k=None\n",
        "        for k,v in self.accuresult.items():\n",
        "            if best_v < v:\n",
        "                best_v=v\n",
        "                best_k=k\n",
        "        return best_k,best_v\n"
      ],
      "metadata": {
        "id": "itEuHdnGMjCw"
      },
      "execution_count": null,
      "outputs": []
    },
    {
      "cell_type": "code",
      "source": [
        "obj2 = ClassificationEval('Churn',df_fin)"
      ],
      "metadata": {
        "colab": {
          "base_uri": "https://localhost:8080/"
        },
        "id": "b-lELs58MjE5",
        "outputId": "8dd0928d-4340-4e46-fa77-ca95e1bc7caf"
      },
      "execution_count": null,
      "outputs": [
        {
          "output_type": "stream",
          "name": "stdout",
          "text": [
            "Constructor of Class for classification evaluation\n"
          ]
        }
      ]
    },
    {
      "cell_type": "code",
      "source": [
        "accu, roc = obj2.run_all_model(\"features\")"
      ],
      "metadata": {
        "colab": {
          "base_uri": "https://localhost:8080/"
        },
        "id": "nVqjE8AhMENn",
        "outputId": "a123109f-ddbd-473d-8736-44b1105d6f2c"
      },
      "execution_count": null,
      "outputs": [
        {
          "output_type": "stream",
          "name": "stdout",
          "text": [
            "Accuracy = {'lr': 0.9417249417249417, 'rf': 0.8181818181818182, 'gb': 0.9300699300699301, 'lsvc': 0.9440559440559441}\n",
            "roc = {'lr': 0.9996072270227808, 'rf': 0.9024177358819934, 'gb': 0.9575150562974601, 'lsvc': 0.999650868464694}\n"
          ]
        }
      ]
    },
    {
      "cell_type": "code",
      "source": [
        " trainDF, testDF = df_fin.randomSplit([0.7, 0.3], seed=42)"
      ],
      "metadata": {
        "id": "XGahKbhhNfQc"
      },
      "execution_count": null,
      "outputs": []
    },
    {
      "cell_type": "code",
      "source": [
        "from pyspark.ml.classification import GBTClassifier\n",
        "\n",
        "gbt = GBTClassifier(labelCol=\"Churn\",featuresCol=\"features\",maxIter=10)\n",
        "gbtModel = gbt.fit(trainDF)\n",
        "gbtPreds = gbtModel.transform(testDF)"
      ],
      "metadata": {
        "id": "zZ-gLH73NfS0"
      },
      "execution_count": null,
      "outputs": []
    },
    {
      "cell_type": "code",
      "source": [
        "from pyspark.ml.evaluation import BinaryClassificationEvaluator\n",
        "gbtEval = BinaryClassificationEvaluator(labelCol=\"Churn\")\n",
        "gbtROC = gbtEval.evaluate(gbtPreds, {gbtEval.metricName: \"areaUnderROC\"})\n",
        "print(\"Test Area Under ROC: \" + str(gbtROC))\n"
      ],
      "metadata": {
        "colab": {
          "base_uri": "https://localhost:8080/"
        },
        "id": "vb-QuMSgNfU4",
        "outputId": "9cf2309f-b6f9-4361-8790-39a5bddf483d"
      },
      "execution_count": null,
      "outputs": [
        {
          "output_type": "stream",
          "name": "stdout",
          "text": [
            "Test Area Under ROC: 0.9578250032795487\n"
          ]
        }
      ]
    },
    {
      "cell_type": "code",
      "source": [
        "testDF.show()"
      ],
      "metadata": {
        "colab": {
          "base_uri": "https://localhost:8080/"
        },
        "id": "-V8mbVR87P_d",
        "outputId": "1c40b526-6cf6-4962-8d10-cf9e7658de92"
      },
      "execution_count": null,
      "outputs": [
        {
          "output_type": "stream",
          "name": "stdout",
          "text": [
            "+----+--------------+---------------+-----+---------+-----+-----------------+-----------------+-----------------+--------------------+--------------------+\n",
            "| Age|Total_Purchase|Account_Manager|Years|Num_Sites|Churn|        Names_vec|     Location_vec|      Company_vec|            features|        standardized|\n",
            "+----+--------------+---------------+-----+---------+-----+-----------------+-----------------+-----------------+--------------------+--------------------+\n",
            "|26.0|       8787.39|              1| 5.42|     11.0|    1|(899,[100],[1.0])| (900,[95],[1.0])|(873,[111],[1.0])|(2677,[0,1,2,3,4,...|(2677,[0,1,2,3,4,...|\n",
            "|28.0|       9090.43|              1| 5.74|     10.0|    0|(899,[600],[1.0])|(900,[233],[1.0])|(873,[308],[1.0])|(2677,[0,1,2,3,4,...|(2677,[0,1,2,3,4,...|\n",
            "|28.0|      11245.38|              0| 6.72|      8.0|    0|(899,[254],[1.0])|(900,[438],[1.0])|(873,[865],[1.0])|(2677,[0,1,3,4,25...|(2677,[0,1,3,4,25...|\n",
            "|29.0|       5900.78|              1| 5.56|      8.0|    0|(899,[204],[1.0])|(900,[588],[1.0])|(873,[495],[1.0])|(2677,[0,1,2,3,4,...|(2677,[0,1,2,3,4,...|\n",
            "|29.0|      10203.18|              1| 5.82|      8.0|    0|(899,[677],[1.0])|(900,[357],[1.0])|(873,[408],[1.0])|(2677,[0,1,2,3,4,...|(2677,[0,1,2,3,4,...|\n",
            "|29.0|      11274.46|              1| 4.43|      8.0|    0|(899,[336],[1.0])|(900,[636],[1.0])|(873,[307],[1.0])|(2677,[0,1,2,3,4,...|(2677,[0,1,2,3,4,...|\n",
            "|29.0|      12711.15|              0| 5.74|      7.0|    0|(899,[327],[1.0])|(900,[384],[1.0])|(873,[814],[1.0])|(2677,[0,1,3,4,33...|(2677,[0,1,3,4,33...|\n",
            "|30.0|       7960.64|              1| 2.72|     10.0|    1|(899,[109],[1.0])|(900,[111],[1.0])| (873,[88],[1.0])|(2677,[0,1,2,3,4,...|(2677,[0,1,2,3,4,...|\n",
            "|30.0|       8677.28|              1| 7.31|      7.0|    0|(899,[588],[1.0])|(900,[651],[1.0])|(873,[841],[1.0])|(2677,[0,1,2,3,4,...|(2677,[0,1,2,3,4,...|\n",
            "|30.0|      10183.98|              1| 5.14|      9.0|    0|(899,[599],[1.0])|(900,[215],[1.0])|(873,[748],[1.0])|(2677,[0,1,2,3,4,...|(2677,[0,1,2,3,4,...|\n",
            "|30.0|      10744.14|              1| 7.16|      9.0|    1| (899,[58],[1.0])| (900,[73],[1.0])| (873,[71],[1.0])|(2677,[0,1,2,3,4,...|(2677,[0,1,2,3,4,...|\n",
            "|30.0|      13473.35|              0| 3.84|     10.0|    0|(899,[663],[1.0])|(900,[849],[1.0])|(873,[705],[1.0])|(2677,[0,1,3,4,66...|(2677,[0,1,3,4,66...|\n",
            "|31.0|       5387.75|              0| 6.83|      9.0|    0|(899,[556],[1.0])|(900,[296],[1.0])|(873,[589],[1.0])|(2677,[0,1,3,4,56...|(2677,[0,1,3,4,56...|\n",
            "|31.0|       7073.61|              0| 5.73|      9.0|    0|(899,[496],[1.0])|(900,[806],[1.0])|(873,[677],[1.0])|(2677,[0,1,3,4,50...|(2677,[0,1,3,4,50...|\n",
            "|31.0|       8829.83|              1| 4.52|      8.0|    0|(899,[484],[1.0])|(900,[553],[1.0])|(873,[459],[1.0])|(2677,[0,1,2,3,4,...|(2677,[0,1,2,3,4,...|\n",
            "|31.0|      10058.87|              1| 6.54|      7.0|    0|(899,[176],[1.0])|(900,[720],[1.0])|(873,[512],[1.0])|(2677,[0,1,2,3,4,...|(2677,[0,1,2,3,4,...|\n",
            "|31.0|       10182.6|              1| 3.77|      8.0|    0|(899,[475],[1.0])|(900,[175],[1.0])|(873,[145],[1.0])|(2677,[0,1,2,3,4,...|(2677,[0,1,2,3,4,...|\n",
            "|32.0|       5756.12|              0|  5.9|      8.0|    0|(899,[866],[1.0])|(900,[403],[1.0])|(873,[684],[1.0])|(2677,[0,1,3,4,87...|(2677,[0,1,3,4,87...|\n",
            "|32.0|       8575.71|              0| 4.26|      9.0|    0|(899,[233],[1.0])|(900,[884],[1.0])|(873,[636],[1.0])|(2677,[0,1,3,4,23...|(2677,[0,1,3,4,23...|\n",
            "|32.0|       8617.98|              1|  6.2|     10.0|    1|(899,[105],[1.0])| (900,[99],[1.0])| (873,[95],[1.0])|(2677,[0,1,2,3,4,...|(2677,[0,1,2,3,4,...|\n",
            "+----+--------------+---------------+-----+---------+-----+-----------------+-----------------+-----------------+--------------------+--------------------+\n",
            "only showing top 20 rows\n",
            "\n"
          ]
        }
      ]
    },
    {
      "cell_type": "code",
      "source": [
        "from pyspark.ml.tuning import ParamGridBuilder, CrossValidator\n",
        "\n",
        "paramGrid = (ParamGridBuilder()\n",
        "             .addGrid(gbt.maxDepth, [2, 4, 6])\n",
        "             .addGrid(gbt.maxBins, [20, 60])\n",
        "             .addGrid(gbt.maxIter, [10, 20])\n",
        "             .build())\n",
        "\n",
        "cv = CrossValidator(estimator=gbt, estimatorParamMaps=paramGrid, evaluator=gbtEval, numFolds=5)\n",
        "\n",
        "# Run cross validations.\n",
        "# This can take some minutes since it is training over 20 trees!\n",
        "cvModel = cv.fit(trainDF)\n",
        "cvPreds = cvModel.transform(testDF)\n",
        "gbtEval.evaluate(cvPreds)"
      ],
      "metadata": {
        "colab": {
          "base_uri": "https://localhost:8080/"
        },
        "id": "Ov-8cEDINfXK",
        "outputId": "673a589e-2676-4d97-8c53-cd24bdbb680f"
      },
      "execution_count": null,
      "outputs": [
        {
          "output_type": "execute_result",
          "data": {
            "text/plain": [
              "0.9647885784249421"
            ]
          },
          "metadata": {},
          "execution_count": 32
        }
      ]
    },
    {
      "cell_type": "code",
      "source": [
        "model_path = \"Churn_model\"\n",
        "cvModel.write().overwrite().save(model_path)"
      ],
      "metadata": {
        "id": "F7VJ138ENfZU"
      },
      "execution_count": null,
      "outputs": []
    },
    {
      "cell_type": "code",
      "source": [],
      "metadata": {
        "id": "oowFMypFMERN"
      },
      "execution_count": null,
      "outputs": []
    }
  ]
}